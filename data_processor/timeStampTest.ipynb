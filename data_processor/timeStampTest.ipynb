{
 "cells": [
  {
   "cell_type": "code",
   "execution_count": 47,
   "metadata": {},
   "outputs": [],
   "source": [
    "import os\n",
    "import argparse\n",
    "import numpy as np\n",
    "from scipy.interpolate import interp1d\n",
    "import sys\n",
    "import pathlib\n",
    "import csv\n",
    "import shutil\n",
    "import ast\n"
   ]
  },
  {
   "cell_type": "code",
   "execution_count": 99,
   "metadata": {},
   "outputs": [],
   "source": [
    "runs = [\"checkerboard\"] + [str(i) for i in range(5, 6)]"
   ]
  },
  {
   "cell_type": "code",
   "execution_count": 100,
   "metadata": {},
   "outputs": [],
   "source": [
    "for run in runs:\n",
    "    runPath = pathlib.Path(f\"../data/20241011_phantom_mono/Recordings/run_{run}\")\n",
    "    runPath.absolute().resolve()\n",
    "    runDataFileNames = os.listdir(runPath)\n",
    "    ndiFiles = [runPath/f for f in runDataFileNames if f.startswith(\"ndi\") and f.endswith(\".csv\") and not f.endswith(\"original.csv\")]\n",
    "    videoTimestampFiles = [runPath/f for f in runDataFileNames if f.startswith(\"endoscope_timestamp_\") and f.endswith(\".csv\") and not f.endswith(\"original.csv\")]\n",
    "    \n",
    "    for ndiFile in ndiFiles:\n",
    "        shutil.copy(str(ndiFile), runPath / (str(ndiFile).split(\"/\")[-1].split(\".csv\")[0] + \"original.csv\"))\n",
    "    break"
   ]
  },
  {
   "cell_type": "code",
   "execution_count": 101,
   "metadata": {},
   "outputs": [
    {
     "data": {
      "text/plain": [
       "(2447, 2)"
      ]
     },
     "execution_count": 101,
     "metadata": {},
     "output_type": "execute_result"
    }
   ],
   "source": [
    "np.loadtxt(str(videoTimestampFiles[0]), delimiter=\",\").shape"
   ]
  },
  {
   "cell_type": "code",
   "execution_count": 102,
   "metadata": {},
   "outputs": [],
   "source": [
    "with open(ndiFiles[0], 'r', newline='') as csvfile:\n",
    "    reader = csv.reader(csvfile, delimiter=',', quotechar='\"')\n",
    "    dataReadList = []\n",
    "    timeStamps = [] \n",
    "    transforms = []\n",
    "    for row in reader:\n",
    "        rowRead = []\n",
    "        for element in row:    \n",
    "            # elementCleaned = element.replace(\"array\", \"\").replace(\"(\", \"\").replace(\")\", \"\").replace(\"nan\", \"float('nan')\").replace(\"\\n\", \"\")\n",
    "            elementCleaned = element.replace(\"array(\", \"\").replace(\")\", \"\").replace(\"[\", \"\").replace(\"]\", \"\").replace(\"\\n\", \"\")\n",
    "            dataElement = np.fromstring(elementCleaned, sep=\",\")\n",
    "            if dataElement.shape[0] == 32:\n",
    "                dataElement = dataElement.reshape([2, 4, 4])\n",
    "            rowRead.append(dataElement)\n",
    "        timeStamps.append(rowRead[1])\n",
    "        dataReadList.append(rowRead)\n",
    "        transforms.append(rowRead[3])\n",
    "    timeStamps = np.array(timeStamps)\n",
    "    transforms = np.array(transforms)\n",
    "# np.loadtxt(str(ndiFiles[0]), delimiter=\",\")"
   ]
  },
  {
   "cell_type": "code",
   "execution_count": 98,
   "metadata": {},
   "outputs": [
    {
     "name": "stdout",
     "output_type": "stream",
     "text": [
      "[[[0.66711592 0.28863613 0.34935601]\n",
      "  [0.20816637 0.63441899 0.83285774]]\n",
      "\n",
      " [[0.42390507 0.26086954 0.26879518]\n",
      "  [0.22238231 0.4264774  0.46872838]]\n",
      "\n",
      " [[0.09860601 0.58722182 0.13978506]\n",
      "  [0.73700045 0.76899224 0.42910132]]\n",
      "\n",
      " [[0.41461259 0.09592565 0.71322484]\n",
      "  [0.89631956 0.14259707 0.94441184]]]\n",
      "[[0.66711592 0.28863613 0.34935601 0.20816637 0.63441899 0.83285774\n",
      "  0.42390507 0.26086954 0.26879518 0.22238231 0.4264774  0.46872838]\n",
      " [0.09860601 0.58722182 0.13978506 0.73700045 0.76899224 0.42910132\n",
      "  0.41461259 0.09592565 0.71322484 0.89631956 0.14259707 0.94441184]]\n"
     ]
    }
   ],
   "source": [
    "a = np.random.random([4, 2, 3])\n",
    "print(a)\n",
    "print(a.reshape([2, -1]))"
   ]
  },
  {
   "cell_type": "code",
   "execution_count": 90,
   "metadata": {},
   "outputs": [
    {
     "data": {
      "text/plain": [
       "array([1., 1., 1., 1., 1., 1., 1.])"
      ]
     },
     "execution_count": 90,
     "metadata": {},
     "output_type": "execute_result"
    }
   ],
   "source": [
    "np.concatenate([a[:3, 3], b])"
   ]
  },
  {
   "cell_type": "code",
   "execution_count": null,
   "metadata": {},
   "outputs": [],
   "source": []
  }
 ],
 "metadata": {
  "kernelspec": {
   "display_name": "cv",
   "language": "python",
   "name": "python3"
  },
  "language_info": {
   "codemirror_mode": {
    "name": "ipython",
    "version": 3
   },
   "file_extension": ".py",
   "mimetype": "text/x-python",
   "name": "python",
   "nbconvert_exporter": "python",
   "pygments_lexer": "ipython3",
   "version": "3.10.15"
  }
 },
 "nbformat": 4,
 "nbformat_minor": 2
}
