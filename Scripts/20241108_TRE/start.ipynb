{
 "cells": [
  {
   "cell_type": "code",
   "execution_count": 171,
   "metadata": {},
   "outputs": [],
   "source": [
    "import sys\n",
    "import numpy as np\n",
    "import open3d as o3d\n",
    "import cv2 as cv\n",
    "import glob\n",
    "import importlib\n",
    "import pathlib\n",
    "from scipy.spatial.transform import Rotation as R\n",
    "import os\n",
    "\n",
    "sys.path.append(\"../../\")\n",
    "from data_processor import IntrinsicCalib, mp4ToPng\n",
    "from CT_data_registration import o3d_ICP"
   ]
  },
  {
   "cell_type": "code",
   "execution_count": 18,
   "metadata": {},
   "outputs": [
    {
     "data": {
      "text/plain": [
       "<module 'data_processor.mp4ToPng' from '/home/fj/Projects/ARPA-H/Scripts/20241108_TRE/../../data_processor/mp4ToPng.py'>"
      ]
     },
     "execution_count": 18,
     "metadata": {},
     "output_type": "execute_result"
    }
   ],
   "source": [
    "importlib.reload(IntrinsicCalib)\n",
    "importlib.reload(mp4ToPng)"
   ]
  },
  {
   "cell_type": "code",
   "execution_count": 135,
   "metadata": {},
   "outputs": [],
   "source": [
    "# Define the dimensions of the checkerboard (number of inner corners per row and column)\n",
    "CHECKERBOARD_SHAPE = (10, 7)  # Adjust according to your checkerboard dimensions\n",
    "CHECKERBOARD_GRID_SIZE = 20 # mm\n",
    "\n",
    "videoBasePath = pathlib.Path(\"/media/fj/Data/Projects/ARPA-H/data/20241011_phantom_mono/Recordings/run_4\")\n",
    "videoPath = videoBasePath / \"Oct11_BPH_Recording5.avi\"\n",
    "imageBasePath = pathlib.Path(\"/media/fj/Data/Projects/ARPA-H/data/20241011_phantom_mono/Recordings/run_5/checkerboard/cam0\")\n",
    "imagePath = imageBasePath / \"data\"\n",
    "timeStampsPath = videoBasePath / \"Oct11_BPH_Recording5.csv\"\n",
    "timeStamps = np.genfromtxt(timeStampsPath, delimiter=\",\", dtype=np.double)[:, 1]\n",
    "\n",
    "\n",
    "bphVideoBasePath = pathlib.Path(\"/media/fj/Data/Projects/ARPA-H/data/20241011_phantom_mono/Recordings/run_5\")\n",
    "bphVideoPath = bphVideoBasePath / \"Oct11_BPH_Recording6.avi\"\n",
    "bphImageBasePath = pathlib.Path(\"/media/fj/Data/Projects/ARPA-H/data/20241011_phantom_mono/Recordings/run_5/BPH/cam0\")\n",
    "bphImagePath = bphImageBasePath / \"data\"\n",
    "bphTimeStampsPath = bphVideoBasePath / \"Oct11_BPH_Recording6.csv\"\n",
    "bphTimeStamps = np.genfromtxt(bphTimeStampsPath, delimiter=\",\", dtype=np.double)[:, 1]\n",
    "\n",
    "VSLAM_RECON_PATH = pathlib.Path(\"/media/fj/Data/Projects/ARPA-H/data/20241011_phantom_mono/Recordings/run_5/BPH/slam_reconstruction\")\n"
   ]
  },
  {
   "cell_type": "code",
   "execution_count": 172,
   "metadata": {},
   "outputs": [],
   "source": [
    "# Define the dimensions of the checkerboard (number of inner corners per row and column)\n",
    "# CHECKERBOARD = (10, 7)  # Adjust according to your checkerboard dimensions\n",
    "CHECKERBOARD_SHAPE = (9, 6)  # Adjust according to your checkerboard dimensions\n",
    "CHECKERBOARD_GRID_SIZE = 20 # mm\n",
    "\n",
    "videoBasePath = pathlib.Path(\"/media/fj/Data/Projects/ARPA-H/data/20241025_phantom_mono_tre/White/run_cb\")\n",
    "videoPath = videoBasePath / \"Oct25_BPH_White_cb.avi\"\n",
    "imageBasePath = pathlib.Path(\"/media/fj/Data/Projects/ARPA-H/data/20241025_phantom_mono_tre/White/run_cb/checkerboard/cam0\")\n",
    "imagePath = imageBasePath / \"data\"\n",
    "timeStampsPath = videoBasePath / \"Oct25_BPH_White_cb.csv\"\n",
    "timeStamps = np.genfromtxt(timeStampsPath, delimiter=\",\", dtype=np.double)[:, 1]\n",
    "\n",
    "bphVideoBasePath = pathlib.Path(\"/media/fj/Data/Projects/ARPA-H/data/20241025_phantom_mono_tre/White/run_2\")\n",
    "bphVideoPath = bphVideoBasePath / \"Oct25_BPH_White_2.avi\"\n",
    "bphImageBasePath = pathlib.Path(\"/media/fj/Data/Projects/ARPA-H/data/20241025_phantom_mono_tre/White/run_2/BPH/cam0\")\n",
    "bphImagePath = bphImageBasePath / \"data\"\n",
    "bphTimeStampsPath = bphVideoBasePath / \"Oct25_BPH_White_2.csv\"\n",
    "bphTimeStamps = np.genfromtxt(bphTimeStampsPath, delimiter=\",\", dtype=np.double)[:, 1]\n",
    "\n",
    "VSLAM_RECON_PATH = pathlib.Path(\"/media/fj/Data/Projects/ARPA-H/data/20241025_phantom_mono_tre/White/run_2/BPH/slam_reconstruction\")\n"
   ]
  },
  {
   "cell_type": "markdown",
   "metadata": {},
   "source": [
    "# Preprocessing and Calibration"
   ]
  },
  {
   "cell_type": "markdown",
   "metadata": {},
   "source": [
    "## Convert video to png frames"
   ]
  },
  {
   "cell_type": "code",
   "execution_count": null,
   "metadata": {},
   "outputs": [],
   "source": [
    "mp4ToPng.saBveFramesAsPng(bphVideoPath, bphImagePath, newSize=(640, 360), timeStamps=bphTimeStamps)\n",
    "mp4ToPng.saveFramesAsPng(videoPath, imagePath, newSize=(640, 360), timeStamps=timeStamps)"
   ]
  },
  {
   "cell_type": "markdown",
   "metadata": {},
   "source": [
    "## Calibration"
   ]
  },
  {
   "cell_type": "code",
   "execution_count": 174,
   "metadata": {},
   "outputs": [
    {
     "name": "stdout",
     "output_type": "stream",
     "text": [
      "# of Images: 1381\n",
      "1380/1381\n",
      "Error:\n",
      " 1.8348587704031785\n",
      "Camera Matrix:\n",
      " [[235.7407498    0.         322.29086211]\n",
      " [  0.         235.99207087 210.66387128]\n",
      " [  0.           0.           1.        ]]\n",
      "\n",
      "Distortion Coefficients:\n",
      " [[-0.38956039  0.26414248 -0.00994592  0.00697214 -0.20356178]]\n"
     ]
    }
   ],
   "source": [
    "images = glob.glob(str(imagePath / \"*.png\"))\n",
    "print(f\"# of Images: {len(images)}\")\n",
    "criteria = (cv.TERM_CRITERIA_EPS + cv.TERM_CRITERIA_MAX_ITER, 30, 0.001)\n",
    "ret, camera_matrix, dist_coeffs, rvecs, tvecs = IntrinsicCalib.detectCheckerboardAndIntrinsicCalib(images, CHECKERBOARD_SHAPE=CHECKERBOARD_SHAPE, CHECKERBOARD_GRID_SIZE=20, savePath=imageBasePath / \"intrinsics\", visualize=True, imageRange=[0, len(images), 7])"
   ]
  },
  {
   "cell_type": "code",
   "execution_count": 10,
   "metadata": {},
   "outputs": [
    {
     "data": {
      "text/plain": [
       "'/media/fj/Data/Projects/ARPA-H/data/20241011_phantom_mono/Recordings/run_5/checkerboard/cam0/data'"
      ]
     },
     "execution_count": 10,
     "metadata": {},
     "output_type": "execute_result"
    }
   ],
   "source": [
    "str(bphImagePath)"
   ]
  },
  {
   "cell_type": "markdown",
   "metadata": {},
   "source": [
    "# Run DROID-SLAM"
   ]
  },
  {
   "cell_type": "markdown",
   "metadata": {},
   "source": [
    "For 20241011 (1st) target error run:\\\n",
    "`python demo.py --imagedir=/media/fj/Data/Projects/ARPA-H/data/20241011_phantom_mono/Recordings/run_5/BPH/cam0/data/ --calib=calib/mono_endo_20241011_run4.txt --t0=0 --reconstruction_path /media/fj/Data/Projects/ARPA-H/data/20241011_phantom_mono/Recordings/run_5/BPH/slam_reconstruction`\n",
    "\n",
    "For 20241025 (2nd) target error run:\\\n",
    "`python demo.py --imagedir=/media/fj/Data/Projects/ARPA-H/data/20241025_phantom_mono_tre/White/run_2/BPH/cam0/data --calib=calib/mono_endo_20241025_white.txt --t0=60 --reconstruction_path /media/fj/Data/Projects/ARPA-H/data/20241025_phantom_mono_tre/White/run_2/BPH/slam_reconstruction`"
   ]
  },
  {
   "cell_type": "markdown",
   "metadata": {},
   "source": [
    "# Reconstruction Analysis"
   ]
  },
  {
   "cell_type": "code",
   "execution_count": 170,
   "metadata": {},
   "outputs": [],
   "source": [
    "# vslamCam  = np.load(VSLAM_RECON_PATH / \"camera.ply\", allow_pickle=True)\n",
    "vslamPoses = np.load(VSLAM_RECON_PATH / \"poses.npy\", allow_pickle=True)\n",
    "vslamFrameStamps = np.load(VSLAM_RECON_PATH / \"tstamps.npy\", allow_pickle=True)\n",
    "\n",
    "vslamTimeStamps = bphTimeStamps[vslamFrameStamps.astype(int)]\n"
   ]
  },
  {
   "cell_type": "markdown",
   "metadata": {},
   "source": [
    "## ICP regitsration between VSLAM and CT"
   ]
  },
  {
   "cell_type": "code",
   "execution_count": null,
   "metadata": {},
   "outputs": [],
   "source": []
  },
  {
   "cell_type": "markdown",
   "metadata": {},
   "source": [
    "## Obtain NID track data corressponding to VSLAM Reconstruction"
   ]
  },
  {
   "cell_type": "code",
   "execution_count": 166,
   "metadata": {},
   "outputs": [],
   "source": [
    "# Load NDI Timestamps and poses\n",
    "videoFiles = [f for f in os.listdir(bphVideoBasePath) if f.endswith(\".avi\")]\n",
    "# ndiFileAlgined = \"ndi_1728660745.233532_Oct11_BPH_recording_6_aligned.csv\"\n",
    "ndiFileAlgined = \"1729869737.0550358_Oct25_BPH_White_2_aligned.csv\"\n",
    "videoTimeFiles = [f for f in os.listdir(bphVideoBasePath) if (f.split(\".\")[0]+\".avi\") in videoFiles and f.endswith(\".csv\")]\n",
    "videoTimeFile = videoTimeFiles[0]\n",
    "\n",
    "ndiTimeStamps = np.genfromtxt(bphVideoBasePath/ndiFileAlgined, delimiter=\",\")\n",
    "ndiTimeStamps = ndiTimeStamps[:-1, :]\n",
    "\n",
    "# Visualizing the ndi tracked cam Poses\n",
    "ndiCamPositions = np.array(ndiTimeStamps[:, 1:4])\n",
    "ndiPhantomPositions =np.array(ndiTimeStamps[:, 8:11])\n",
    "ndiPhantomPositions = ndiPhantomPositions[~ np.any(np.isnan(ndiPhantomPositions), axis=-1), :]\n",
    "\n",
    "\n",
    "ndiCamPtCloud = o3d.geometry.PointCloud()\n",
    "ndiCamPtCloud.points = o3d.utility.Vector3dVector(ndiCamPositions)\n",
    "ndiCamPtCloud.colors = o3d.utility.Vector3dVector([[1, 0, 0] for _ in ndiCamPositions])\n",
    "\n",
    "\n",
    "ndiPhantomCloud = o3d.geometry.PointCloud()\n",
    "ndiPhantomCloud.points = o3d.utility.Vector3dVector(ndiPhantomPositions)\n",
    "ndiPhantomCloud.colors = o3d.utility.Vector3dVector([[0, 1, 0] for _ in ndiPhantomPositions])\n",
    "\n",
    "\n",
    "ndiFileAlignedRun1 = \"/media/fj/Data/Projects/ARPA-H/data/20241025_phantom_mono_tre/White/run_1/1729869514.5427468_Oct25_BPH_White_1_aligned.csv\"\n",
    "ndiTimeStampsRun1 = np.genfromtxt(ndiFileAlignedRun1, delimiter=\",\")\n",
    "ndiTimeStampsRun1 = ndiTimeStampsRun1[:-1, :]\n",
    "ndiPhantomPositionsRun1 = np.array(ndiTimeStampsRun1[:, 1:4])\n",
    "ndiPhantomPositionsRun1 = ndiPhantomPositionsRun1[~ np.any(np.isnan(ndiPhantomPositionsRun1), axis=-1), :]\n",
    "\n",
    "ndiPhantomCloudRun1 = o3d.geometry.PointCloud()\n",
    "ndiPhantomCloudRun1.points = o3d.utility.Vector3dVector(ndiPhantomPositionsRun1)\n",
    "ndiPhantomCloudRun1.colors = o3d.utility.Vector3dVector([[0, 0, 1] for _ in ndiTimeStampsRun1])\n",
    "\n",
    "\n",
    "o3d.visualization.draw_geometries([ndiCamPtCloud, ndiPhantomCloud, ndiPhantomCloudRun1])\n",
    "\n",
    "# # ndiFiles = [f for f in os.listdir(directory) if f.startswith(\"ndi\") and f.endswith(\".csv\") and not f.endswith(\"original.csv\") and not f.endswith(\"aligned.csv\")]\n",
    "# videoFiles = [f for f in os.listdir(bphVideoBasePath) if f.endswith(\".avi\")]\n",
    "# ndiFiles = [f for f in os.listdir(bphVideoBasePath) if (f.split(\".\")[0]+\".avi\") not in videoFiles and f.endswith(\".csv\") and not f.endswith(\"original.csv\") and f.endswith(\"aligned.csv\")]\n",
    "# videoTimeFiles = [f for f in os.listdir(bphVideoBasePath) if (f.split(\".\")[0]+\".avi\") in videoFiles and f.endswith(\".csv\")]\n",
    "\n",
    "\n",
    "# for ndiFileN in videoTimeFiles:\n",
    "#     curNDITimeStamps = np.genfromtxt(bphVideoBasePath/ndiFileN, delimiter=\",\")\n",
    "#     curNDITimeStamps = curNDITimeStamps[:-1, :]\n",
    "#     print(f\"Start Time: {curNDITimeStamps[0, 0]}\\nEnd Time: {curNDITimeStamps[-1, 0]}\")\n",
    "#     print(not (\n",
    "#         (curNDITimeStamps[-1, 0] <= vslamTimeStamps[0]) or\n",
    "#         (curNDITimeStamps[0, 0] >= vslamTimeStamps[-1])))"
   ]
  },
  {
   "cell_type": "code",
   "execution_count": 167,
   "metadata": {},
   "outputs": [],
   "source": [
    "run2PhantomCentroid = np.mean(ndiPhantomPositions, axis=0)\n",
    "run1PhantomCentroid = np.mean(ndiPhantomPositionsRun1, axis=0)"
   ]
  },
  {
   "cell_type": "code",
   "execution_count": 168,
   "metadata": {},
   "outputs": [
    {
     "data": {
      "text/plain": [
       "array([  249.7399442 ,   -65.15833678, -1169.05104578])"
      ]
     },
     "execution_count": 168,
     "metadata": {},
     "output_type": "execute_result"
    }
   ],
   "source": [
    "run2PhantomCentroid"
   ]
  },
  {
   "cell_type": "code",
   "execution_count": 169,
   "metadata": {},
   "outputs": [
    {
     "data": {
      "text/plain": [
       "array([  152.24021423,   150.32580052, -1096.81415717])"
      ]
     },
     "execution_count": 169,
     "metadata": {},
     "output_type": "execute_result"
    }
   ],
   "source": [
    "run1PhantomCentroid"
   ]
  },
  {
   "cell_type": "code",
   "execution_count": 132,
   "metadata": {},
   "outputs": [],
   "source": [
    "# Visualizing the vslam Poses\n",
    "vslamPositions = np.array(vslamPoses[:, :3])\n",
    "\n",
    "ptCloud = o3d.geometry.PointCloud()\n",
    "ptCloud.points = o3d.utility.Vector3dVector(vslamPositions)\n",
    "ptCloud.colors = o3d.utility.Vector3dVector([[1, 0, 0] for _ in vslamPositions])\n",
    "\n",
    "o3d.visualization.draw_geometries([ptCloud])"
   ]
  },
  {
   "cell_type": "code",
   "execution_count": 133,
   "metadata": {},
   "outputs": [
    {
     "name": "stdout",
     "output_type": "stream",
     "text": [
      "[1728660759964 1728660760095 1728660760562 1728660760829 1728660761029\n",
      " 1728660761096 1728660761164 1728660761266 1728660761466 1728660761563\n",
      " 1728660761697 1728660761797 1728660761866 1728660761930 1728660761997\n",
      " 1728660762164 1728660762266 1728660762364 1728660762431 1728660762831\n",
      " 1728660767802 1728660777779 1728660777918 1728660779281 1728660779414\n",
      " 1728660779520 1728660779617 1728660779683 1728660779750 1728660779817\n",
      " 1728660779983 1728660780119 1728660780217 1728660780351 1728660780719\n",
      " 1728660787925 1728660796231 1728660797335 1728660797599 1728660799940]\n"
     ]
    }
   ],
   "source": [
    "# Obtain ndi poses corresponding to the vslam poses\n",
    "print(vslamTimeStamps.astype(int))\n",
    "\n",
    "ndiTrackAtVSLAMKeyFrames = ndiTimeStamps[vslamFrameStamps.astype(int), :]"
   ]
  },
  {
   "cell_type": "code",
   "execution_count": null,
   "metadata": {},
   "outputs": [],
   "source": []
  }
 ],
 "metadata": {
  "kernelspec": {
   "display_name": "cv",
   "language": "python",
   "name": "python3"
  },
  "language_info": {
   "codemirror_mode": {
    "name": "ipython",
    "version": 3
   },
   "file_extension": ".py",
   "mimetype": "text/x-python",
   "name": "python",
   "nbconvert_exporter": "python",
   "pygments_lexer": "ipython3",
   "version": "3.10.15"
  }
 },
 "nbformat": 4,
 "nbformat_minor": 2
}
