{
 "cells": [
  {
   "cell_type": "code",
   "execution_count": 6,
   "metadata": {},
   "outputs": [],
   "source": [
    "import numpy as np\n",
    "import pathlib\n",
    "import importlib\n",
    "\n",
    "RECON_PATH = pathlib.Path(\"../data/20241011_phantom_mono/run2/prostate/reconstruction/droid\")\n"
   ]
  },
  {
   "cell_type": "code",
   "execution_count": 26,
   "metadata": {},
   "outputs": [],
   "source": [
    "disps = np.load((RECON_PATH/\"disps.npy\").resolve())\n",
    "images = np.load((RECON_PATH/\"images.npy\").resolve())\n",
    "intrinsics = np.load((RECON_PATH/\"intrinsics.npy\").resolve())\n",
    "poses = np.load((RECON_PATH/\"poses.npy\").resolve())\n",
    "tstamps = np.load((RECON_PATH/\"tstamps.npy\").resolve())\n"
   ]
  },
  {
   "cell_type": "code",
   "execution_count": 27,
   "metadata": {},
   "outputs": [
    {
     "data": {
      "text/plain": [
       "(190, 328, 584)"
      ]
     },
     "execution_count": 27,
     "metadata": {},
     "output_type": "execute_result"
    }
   ],
   "source": [
    "disps.shape"
   ]
  },
  {
   "cell_type": "code",
   "execution_count": 28,
   "metadata": {},
   "outputs": [
    {
     "data": {
      "text/plain": [
       "array([[2.787258 , 2.7830036, 2.7832267, ..., 3.7577796, 3.7594903,\n",
       "        3.7528381],\n",
       "       [2.7975404, 2.7931035, 2.792388 , ..., 3.7634213, 3.7655783,\n",
       "        3.757675 ],\n",
       "       [2.8029273, 2.7985337, 2.796724 , ..., 3.7629895, 3.761981 ,\n",
       "        3.7545822],\n",
       "       ...,\n",
       "       [4.082106 , 4.091421 , 4.0903263, ..., 3.2092373, 3.21198  ,\n",
       "        3.2138329],\n",
       "       [4.0988607, 4.1106496, 4.110519 , ..., 3.2169824, 3.2184887,\n",
       "        3.220656 ],\n",
       "       [4.1113744, 4.125168 , 4.1311097, ..., 3.220003 , 3.2219715,\n",
       "        3.224883 ]], dtype=float32)"
      ]
     },
     "execution_count": 28,
     "metadata": {},
     "output_type": "execute_result"
    }
   ],
   "source": [
    "disps[-1, :, :]"
   ]
  },
  {
   "cell_type": "code",
   "execution_count": null,
   "metadata": {},
   "outputs": [],
   "source": []
  }
 ],
 "metadata": {
  "kernelspec": {
   "display_name": "cv",
   "language": "python",
   "name": "python3"
  },
  "language_info": {
   "codemirror_mode": {
    "name": "ipython",
    "version": 3
   },
   "file_extension": ".py",
   "mimetype": "text/x-python",
   "name": "python",
   "nbconvert_exporter": "python",
   "pygments_lexer": "ipython3",
   "version": "3.10.15"
  }
 },
 "nbformat": 4,
 "nbformat_minor": 2
}
